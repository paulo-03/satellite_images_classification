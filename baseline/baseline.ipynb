{
 "cells": [
  {
   "metadata": {},
   "cell_type": "markdown",
   "source": [
    "# Baseline\n",
    "\n",
    "This notebook allows to see the performance of the baseline model and its limitations.\n",
    "\n",
    "***Author:*** [Paulo Ribeiro](mailto:paulo.ribeirodecarvalho@epfl.ch) "
   ],
   "id": "da89696970d97233"
  },
  {
   "metadata": {},
   "cell_type": "markdown",
   "source": "## Import",
   "id": "5c814d34906dac65"
  },
  {
   "metadata": {
    "ExecuteTime": {
     "end_time": "2024-11-13T13:26:59.510640Z",
     "start_time": "2024-11-13T13:26:57.836280Z"
    }
   },
   "cell_type": "code",
   "source": [
    "from feature_extraction import load_split_image_paths, ImageVectorization\n",
    "from random_forest import *\n",
    "\n",
    "%load_ext autoreload\n",
    "%autoreload 2"
   ],
   "id": "a0d4969214cfb1bc",
   "outputs": [],
   "execution_count": 1
  },
  {
   "metadata": {},
   "cell_type": "markdown",
   "source": [
    "## Data\n",
    "\n",
    "Load the data and split it in train and test set. Note that no validation set is created since no time to go through a hyperparameter tuning for this coding test."
   ],
   "id": "9ac3946f0e340d21"
  },
  {
   "cell_type": "code",
   "id": "initial_id",
   "metadata": {
    "collapsed": true,
    "ExecuteTime": {
     "end_time": "2024-11-13T13:26:59.578054Z",
     "start_time": "2024-11-13T13:26:59.521840Z"
    }
   },
   "source": [
    "# Define the data path\n",
    "data_path = \"../data/\"\n",
    "categories = [\"cloudy\", \"desert\", \"green_area\", \"water\"]\n",
    "\n",
    "train_paths, test_paths, train_labels, test_labels = load_split_image_paths(\n",
    "    data_path=data_path, categories=categories, test_size=0.2\n",
    ")"
   ],
   "outputs": [
    {
     "name": "stdout",
     "output_type": "stream",
     "text": [
      "          0    1     2     3\n",
      "train  1200  904  1200  1200\n",
      "test    300  227   300   300\n",
      "{'cloudy': 0, 'desert': 1, 'green_area': 2, 'water': 3}\n"
     ]
    }
   ],
   "execution_count": 2
  },
  {
   "metadata": {},
   "cell_type": "markdown",
   "source": [
    "## Feature engineering\n",
    "\n",
    "Compute features from the images and retrieve its vectorization that will be applied later for the classifier model. I display the first 10 rows of the `train_features` variable to explicitly show the features generated."
   ],
   "id": "bdbbaa34a21cca88"
  },
  {
   "metadata": {
    "ExecuteTime": {
     "end_time": "2024-11-13T13:28:49.793460Z",
     "start_time": "2024-11-13T13:26:59.663024Z"
    }
   },
   "cell_type": "code",
   "source": [
    "# Instantiate feature extractor and transform data\n",
    "vectorizer = ImageVectorization()\n",
    "train_features = vectorizer.transform(train_paths, show_df=True)\n",
    "test_features = vectorizer.transform(test_paths, show_df=False)"
   ],
   "id": "1863fd2bc76a4d97",
   "outputs": [
    {
     "data": {
      "text/plain": [
       "   red_mean  green_mean  blue_mean   red_std  green_std  blue_std  \\\n",
       "0  0.468292    0.294663  -0.106416  0.238454   0.392125  0.129116   \n",
       "1 -0.168097    0.993003   1.495629  0.027521   0.159622  0.300183   \n",
       "2 -0.921608   -0.341859  -0.678831  0.057689   0.395666  0.723928   \n",
       "3 -0.536393   -0.981109  -0.953955 -0.242768  -0.069826  0.281766   \n",
       "4  2.676443    2.071291   1.653401  6.837092   6.266591  5.953890   \n",
       "\n",
       "   gray_contrast  gray_correlation  gray_energy  gray_homogeneity  \n",
       "0       0.110301          0.784595    -0.292455          0.222720  \n",
       "1      -0.066478          0.822438    -0.834876         -0.564176  \n",
       "2       1.048109         -0.178650    -1.146855         -1.850280  \n",
       "3      -0.262874          0.870488     0.634577          0.321824  \n",
       "4       0.006488          1.070670     0.447962          0.032585  "
      ],
      "text/html": [
       "<div>\n",
       "<style scoped>\n",
       "    .dataframe tbody tr th:only-of-type {\n",
       "        vertical-align: middle;\n",
       "    }\n",
       "\n",
       "    .dataframe tbody tr th {\n",
       "        vertical-align: top;\n",
       "    }\n",
       "\n",
       "    .dataframe thead th {\n",
       "        text-align: right;\n",
       "    }\n",
       "</style>\n",
       "<table border=\"1\" class=\"dataframe\">\n",
       "  <thead>\n",
       "    <tr style=\"text-align: right;\">\n",
       "      <th></th>\n",
       "      <th>red_mean</th>\n",
       "      <th>green_mean</th>\n",
       "      <th>blue_mean</th>\n",
       "      <th>red_std</th>\n",
       "      <th>green_std</th>\n",
       "      <th>blue_std</th>\n",
       "      <th>gray_contrast</th>\n",
       "      <th>gray_correlation</th>\n",
       "      <th>gray_energy</th>\n",
       "      <th>gray_homogeneity</th>\n",
       "    </tr>\n",
       "  </thead>\n",
       "  <tbody>\n",
       "    <tr>\n",
       "      <th>0</th>\n",
       "      <td>0.468292</td>\n",
       "      <td>0.294663</td>\n",
       "      <td>-0.106416</td>\n",
       "      <td>0.238454</td>\n",
       "      <td>0.392125</td>\n",
       "      <td>0.129116</td>\n",
       "      <td>0.110301</td>\n",
       "      <td>0.784595</td>\n",
       "      <td>-0.292455</td>\n",
       "      <td>0.222720</td>\n",
       "    </tr>\n",
       "    <tr>\n",
       "      <th>1</th>\n",
       "      <td>-0.168097</td>\n",
       "      <td>0.993003</td>\n",
       "      <td>1.495629</td>\n",
       "      <td>0.027521</td>\n",
       "      <td>0.159622</td>\n",
       "      <td>0.300183</td>\n",
       "      <td>-0.066478</td>\n",
       "      <td>0.822438</td>\n",
       "      <td>-0.834876</td>\n",
       "      <td>-0.564176</td>\n",
       "    </tr>\n",
       "    <tr>\n",
       "      <th>2</th>\n",
       "      <td>-0.921608</td>\n",
       "      <td>-0.341859</td>\n",
       "      <td>-0.678831</td>\n",
       "      <td>0.057689</td>\n",
       "      <td>0.395666</td>\n",
       "      <td>0.723928</td>\n",
       "      <td>1.048109</td>\n",
       "      <td>-0.178650</td>\n",
       "      <td>-1.146855</td>\n",
       "      <td>-1.850280</td>\n",
       "    </tr>\n",
       "    <tr>\n",
       "      <th>3</th>\n",
       "      <td>-0.536393</td>\n",
       "      <td>-0.981109</td>\n",
       "      <td>-0.953955</td>\n",
       "      <td>-0.242768</td>\n",
       "      <td>-0.069826</td>\n",
       "      <td>0.281766</td>\n",
       "      <td>-0.262874</td>\n",
       "      <td>0.870488</td>\n",
       "      <td>0.634577</td>\n",
       "      <td>0.321824</td>\n",
       "    </tr>\n",
       "    <tr>\n",
       "      <th>4</th>\n",
       "      <td>2.676443</td>\n",
       "      <td>2.071291</td>\n",
       "      <td>1.653401</td>\n",
       "      <td>6.837092</td>\n",
       "      <td>6.266591</td>\n",
       "      <td>5.953890</td>\n",
       "      <td>0.006488</td>\n",
       "      <td>1.070670</td>\n",
       "      <td>0.447962</td>\n",
       "      <td>0.032585</td>\n",
       "    </tr>\n",
       "  </tbody>\n",
       "</table>\n",
       "</div>"
      ]
     },
     "metadata": {},
     "output_type": "display_data"
    }
   ],
   "execution_count": 3
  },
  {
   "metadata": {},
   "cell_type": "markdown",
   "source": "## Train model",
   "id": "175d998a5e607a2a"
  },
  {
   "metadata": {
    "ExecuteTime": {
     "end_time": "2024-11-13T13:28:50.531941Z",
     "start_time": "2024-11-13T13:28:50.529343Z"
    }
   },
   "cell_type": "code",
   "source": "",
   "id": "2ffbbc27e1b2c1f8",
   "outputs": [],
   "execution_count": null
  },
  {
   "metadata": {},
   "cell_type": "markdown",
   "source": "## Evaluate model",
   "id": "35d6cd611005928a"
  },
  {
   "metadata": {
    "ExecuteTime": {
     "end_time": "2024-11-13T13:28:50.563989Z",
     "start_time": "2024-11-13T13:28:50.560923Z"
    }
   },
   "cell_type": "code",
   "source": "",
   "id": "da4161164b135995",
   "outputs": [],
   "execution_count": null
  },
  {
   "metadata": {},
   "cell_type": "markdown",
   "source": "## Limitations",
   "id": "48e4f191617a737e"
  },
  {
   "metadata": {
    "ExecuteTime": {
     "end_time": "2024-11-13T13:28:50.593750Z",
     "start_time": "2024-11-13T13:28:50.591116Z"
    }
   },
   "cell_type": "code",
   "source": "",
   "id": "7694550444b8e022",
   "outputs": [],
   "execution_count": null
  }
 ],
 "metadata": {
  "kernelspec": {
   "display_name": "Python 3",
   "language": "python",
   "name": "python3"
  },
  "language_info": {
   "codemirror_mode": {
    "name": "ipython",
    "version": 2
   },
   "file_extension": ".py",
   "mimetype": "text/x-python",
   "name": "python",
   "nbconvert_exporter": "python",
   "pygments_lexer": "ipython2",
   "version": "2.7.6"
  }
 },
 "nbformat": 4,
 "nbformat_minor": 5
}
