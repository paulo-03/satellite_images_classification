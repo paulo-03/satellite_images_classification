{
 "cells": [
  {
   "metadata": {},
   "cell_type": "markdown",
   "source": [
    "# Convolutional Neural Network - ResNET18 fine-tuning\n",
    "\n",
    "This notebook shows the fine-tuning process and its performance for the four categories classification of satellite images. \n",
    "\n",
    "***Author:*** [Paulo Ribeiro](mailto:paulo.ribeirodecarvalho@epfl.ch)"
   ],
   "id": "d1ebf2188677f8cb"
  },
  {
   "metadata": {},
   "cell_type": "code",
   "source": [
    "from warnings import filterwarnings\n",
    "from cnn import ResNET\n",
    "filterwarnings('ignore')"
   ],
   "id": "e782275d05aef3b5",
   "outputs": [],
   "execution_count": null
  },
  {
   "metadata": {},
   "cell_type": "markdown",
   "source": [
    "## ResNET\n",
    "\n",
    "I use here the pretrained ResNET18 from scikit-learn to fine-tune the model for my task. "
   ],
   "id": "dff50df41e234f92"
  },
  {
   "metadata": {},
   "cell_type": "code",
   "source": [
    "cnn = ResNET(\n",
    "    data_dir=\"../data/\",\n",
    "    img_size=(128, 128),\n",
    "    test_size=0.2,\n",
    "    batch_size=32,\n",
    "    epochs=10\n",
    ")"
   ],
   "id": "5343452238730c66",
   "outputs": [],
   "execution_count": null
  },
  {
   "metadata": {},
   "cell_type": "code",
   "source": "cnn.data_loader(show=True)",
   "id": "1fa83e4eca95cfa7",
   "outputs": [],
   "execution_count": null
  },
  {
   "metadata": {},
   "cell_type": "code",
   "source": "cnn.load_model()",
   "id": "33c2897f562110cc",
   "outputs": [],
   "execution_count": null
  },
  {
   "metadata": {},
   "cell_type": "code",
   "source": "cnn.fine_tune()",
   "id": "f1208bde1a31c214",
   "outputs": [],
   "execution_count": null
  },
  {
   "metadata": {},
   "cell_type": "code",
   "source": "cnn.show_training()",
   "id": "bdd951d07fa09dde",
   "outputs": [],
   "execution_count": null
  },
  {
   "metadata": {},
   "cell_type": "code",
   "source": "cnn.evaluate()",
   "id": "a8adb268d36a18dc",
   "outputs": [],
   "execution_count": null
  }
 ],
 "metadata": {
  "kernelspec": {
   "display_name": "Python 3",
   "language": "python",
   "name": "python3"
  },
  "language_info": {
   "codemirror_mode": {
    "name": "ipython",
    "version": 2
   },
   "file_extension": ".py",
   "mimetype": "text/x-python",
   "name": "python",
   "nbconvert_exporter": "python",
   "pygments_lexer": "ipython2",
   "version": "2.7.6"
  }
 },
 "nbformat": 4,
 "nbformat_minor": 5
}
